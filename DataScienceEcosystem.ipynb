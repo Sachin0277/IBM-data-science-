{
 "cells": [
  {
   "cell_type": "markdown",
   "id": "ece25f19",
   "metadata": {},
   "source": [
    "<h1> Data Science Tools and Ecosystem</h1>"
   ]
  },
  {
   "cell_type": "markdown",
   "id": "bd6dbf7f",
   "metadata": {},
   "source": [
    "<h3> In this notebook, Data science Tools and Ecosystem are summarized. </h3>\n",
    "<br>\n",
    "<b> objectives: </b>\n",
    "<ul>\n",
    "    <li> List Popular languages for Data Science</li>\n",
    "    <li> list popular data science tools</li>\n",
    "    <li> list popular open source tools for data science</li>\n",
    "    <li> Arithmetic expression </li>\n",
    "    <li> program to convert minutes into hour</li>\n",
    "</ul>"
   ]
  },
  {
   "cell_type": "markdown",
   "id": "cb8fbec7",
   "metadata": {},
   "source": [
    "Some of the popular languages that Data scientists use are:\n",
    "<ol>\n",
    "    <li> R</li>\n",
    "    <li>Python</li>\n",
    "    <li>Scala</li>\n",
    "    <li>Julia</li>\n",
    "  </ol>"
   ]
  },
  {
   "cell_type": "markdown",
   "id": "2dee29e2",
   "metadata": {},
   "source": [
    "Some of the commonly used data science libraries are : \n",
    "<ol>\n",
    "    <li>Pandas</li>\n",
    "    <li>Numpy</li>\n",
    "    <li>Matplotlib</li>\n",
    "    <li>Seaborn</li>\n",
    "</ol>"
   ]
  },
  {
   "cell_type": "markdown",
   "id": "f40d2538",
   "metadata": {},
   "source": [
    "<table>\n",
    "    <th>Data Science Tools</th>\n",
    "    <tr> \n",
    "        <td>TensorFlow</td>\n",
    "    </tr>\n",
    "    <tr>\n",
    "        <td> RapidMiner</td>\n",
    "    </tr>\n",
    "    <tr> \n",
    "        <td> Hadoop </td>\n",
    "    </tr>\n",
    "</table>"
   ]
  },
  {
   "cell_type": "markdown",
   "id": "a4f77438",
   "metadata": {},
   "source": [
    "<h3>Below are a few examples of evaluating arithmetic expressions in python. </h3>\n"
   ]
  },
  {
   "cell_type": "code",
   "execution_count": 7,
   "id": "c48e7143",
   "metadata": {},
   "outputs": [
    {
     "data": {
      "text/plain": [
       "17"
      ]
     },
     "execution_count": 7,
     "metadata": {},
     "output_type": "execute_result"
    }
   ],
   "source": [
    "(3*4)+5"
   ]
  },
  {
   "cell_type": "code",
   "execution_count": 9,
   "id": "37d52e21",
   "metadata": {},
   "outputs": [
    {
     "name": "stdout",
     "output_type": "stream",
     "text": [
      "Enter minutes:200\n",
      "Equivalent hour : 3.3333333333333335\n"
     ]
    }
   ],
   "source": [
    "#program to convert minute to hour\n",
    "min = (int)(input(\"Enter minutes:\"))\n",
    "print(\"Equivalent hour :\",min/60)"
   ]
  },
  {
   "cell_type": "markdown",
   "id": "ef3e2c77",
   "metadata": {},
   "source": [
    "<h2> Author :</h2>\n",
    "Sachin Yadav"
   ]
  },
  {
   "cell_type": "code",
   "execution_count": null,
   "id": "3149a025",
   "metadata": {},
   "outputs": [],
   "source": []
  }
 ],
 "metadata": {
  "kernelspec": {
   "display_name": "Python 3 (ipykernel)",
   "language": "python",
   "name": "python3"
  },
  "language_info": {
   "codemirror_mode": {
    "name": "ipython",
    "version": 3
   },
   "file_extension": ".py",
   "mimetype": "text/x-python",
   "name": "python",
   "nbconvert_exporter": "python",
   "pygments_lexer": "ipython3",
   "version": "3.9.13"
  }
 },
 "nbformat": 4,
 "nbformat_minor": 5
}
